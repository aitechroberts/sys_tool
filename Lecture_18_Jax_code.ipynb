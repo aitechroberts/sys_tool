{
 "cells": [
  {
   "cell_type": "markdown",
   "metadata": {},
   "source": [
    "<center><h2>Introduction to Jax</h2></center>\n",
    "\n",
    "# 1. Installation of Jax\n",
    "\n",
    "For CPU installation across all platforms, use\n",
    "\n",
    "`pip install -U jax`\n",
    "\n",
    "To utilize Nvidia GPU, AMD GPU, Google TPU, or Apple ARM GPU, you need to use other commands to install Jax. See [https://jax.readthedocs.io/en/latest/installation.html](https://jax.readthedocs.io/en/latest/installation.html) for details.  "
   ]
  },
  {
   "cell_type": "code",
   "execution_count": 42,
   "metadata": {},
   "outputs": [],
   "source": [
    "import jax.numpy as jnp\n",
    "import jax\n",
    "import time"
   ]
  },
  {
   "cell_type": "markdown",
   "metadata": {},
   "source": [
    "# 2. Basic array operation\n",
    "\n",
    "As the name suggests, the jax.numpy package is almost the same as our familiar numpy package. "
   ]
  },
  {
   "cell_type": "code",
   "execution_count": 43,
   "metadata": {},
   "outputs": [
    {
     "name": "stdout",
     "output_type": "stream",
     "text": [
      "x = [1. 2. 3.], y = [1. 1. 1.],  dotproduct = 6.0\n"
     ]
    }
   ],
   "source": [
    "x = jnp.array([1.,2.,3.])\n",
    "y = jnp.ones((3))\n",
    "print(f\"x = {x}, y = {y},  dotproduct = {jnp.dot(x,y)}\")\n",
    "\n"
   ]
  },
  {
   "cell_type": "markdown",
   "metadata": {},
   "source": [
    "# 3. Just-in-time Compilation\n"
   ]
  },
  {
   "cell_type": "markdown",
   "metadata": {},
   "source": []
  },
  {
   "cell_type": "code",
   "execution_count": 44,
   "metadata": {},
   "outputs": [
    {
     "name": "stdout",
     "output_type": "stream",
     "text": [
      "Add one finished\n",
      "The time it takes to perform addone is 2.0907797813415527 seconds\n"
     ]
    }
   ],
   "source": [
    "def addone(x): # This function adds value 1 to all entries of the input. It is intentionally written to be slow (with a for loop)\n",
    "    for i in range(x.shape[0]):\n",
    "        x = x.at[i].set(x[i]+1) # This basically means x[i] = x[i] + 1. One notable difference between jax and numpy is jax arrays are immutable\n",
    "    print(\"Add one finished\")\n",
    "    return x\n",
    "\n",
    "# Let's see how long it takes to run this function\n",
    "x = jnp.ones((10000))\n",
    "start_time = time.time()\n",
    "x_addone = addone(x)\n",
    "end_time = time.time()\n",
    "\n",
    "print(f\"The time it takes to perform addone is {end_time-start_time} seconds\")"
   ]
  },
  {
   "cell_type": "markdown",
   "metadata": {},
   "source": [
    "Let jit the addone function and run the new function. "
   ]
  },
  {
   "cell_type": "code",
   "execution_count": 45,
   "metadata": {},
   "outputs": [
    {
     "name": "stdout",
     "output_type": "stream",
     "text": [
      "Add one finished\n",
      "The time it takes to perform addone_jix for the first time is 44.31190013885498 seconds\n"
     ]
    }
   ],
   "source": [
    "# Let's JIT this funciton to get addone_jix\n",
    "addone_jit = jax.jit(addone)\n",
    "\n",
    "# Let's see how long it takes to run this function\n",
    "start_time = time.time()\n",
    "x_addone_jit = addone_jit(x)\n",
    "end_time = time.time()\n",
    "\n",
    "print(f\"The time it takes to perform addone_jix for the first time is {end_time-start_time} seconds\")"
   ]
  },
  {
   "cell_type": "markdown",
   "metadata": {},
   "source": [
    "When you run the addone_jit function for the first time, it is quite slow as jax is tracing the computation in addone, and produce and optimize the computation graph. After running addone_jit for the first time, running it again will be very fast."
   ]
  },
  {
   "cell_type": "code",
   "execution_count": 46,
   "metadata": {},
   "outputs": [
    {
     "name": "stdout",
     "output_type": "stream",
     "text": [
      "The time it takes to perform addone_jix for the second time is 0.0009500980377197266 seconds\n"
     ]
    }
   ],
   "source": [
    "# running addone_jix for a second time\n",
    "start_time = time.time()\n",
    "x_addone_jit = addone_jit(x)\n",
    "end_time = time.time()\n",
    "print(f\"The time it takes to perform addone_jix for the second time is {end_time-start_time} seconds\")\n"
   ]
  },
  {
   "cell_type": "markdown",
   "metadata": {},
   "source": [
    "Also, you will find that the print out of \"Add one finished\" is gone. This is because after jit, the code on \"print\" is ignored as it is unrelated to the computation. "
   ]
  },
  {
   "cell_type": "markdown",
   "metadata": {},
   "source": [
    "# 4. Gradient Computation"
   ]
  },
  {
   "cell_type": "markdown",
   "metadata": {},
   "source": [
    "Gradient computation in Jax has a more \"mathematical\" feel compared to pytorch. In mathematics, a gradient is defined for a function. For example, given a funciton f(x) = x^2, the gradient function is f'(x) = 2*x. This is exactly what jax.grad does: it takes a function as input, and outputs the gradient function. Usage-wise, this is quite different from the \"backward\" in pytorch and is more tailored to scientific computing. "
   ]
  },
  {
   "cell_type": "code",
   "execution_count": 47,
   "metadata": {},
   "outputs": [
    {
     "data": {
      "text/plain": [
       "Array(6., dtype=float32, weak_type=True)"
      ]
     },
     "execution_count": 47,
     "metadata": {},
     "output_type": "execute_result"
    }
   ],
   "source": [
    "\n",
    "def square(x): # a simple square function \n",
    "    return x*x\n",
    "\n",
    "grad_square = jax.grad(square) # grad_square will be the gradient function of f(x) = x^2, which is 2*x\n",
    "\n",
    "x = jnp.array(3.)\n",
    "grad_square(3.) # The expected result is 2*x\n"
   ]
  },
  {
   "cell_type": "markdown",
   "metadata": {},
   "source": [
    "In the above example, you can apply jax.grad to grad_square, which will return the second-order derivative of the function square. You can keep doing this and get the derivative of arbitrary order. Taking higher-order derivative is something that is awkward to do in PyTorch. This again speaks to the focus of jax on scientific computing.   "
   ]
  },
  {
   "cell_type": "code",
   "execution_count": 48,
   "metadata": {},
   "outputs": [
    {
     "data": {
      "text/plain": [
       "Array(2., dtype=float32, weak_type=True)"
      ]
     },
     "execution_count": 48,
     "metadata": {},
     "output_type": "execute_result"
    }
   ],
   "source": [
    "second_order_grad_square = jax.grad(grad_square)\n",
    "\n",
    "second_order_grad_square(x) # this should just return value 2 regardless of x"
   ]
  },
  {
   "cell_type": "markdown",
   "metadata": {},
   "source": [
    "# 5. Train a Neural Network with Jax"
   ]
  },
  {
   "cell_type": "markdown",
   "metadata": {},
   "source": [
    "In this section, we will use Jax to build and train a simple neural network. As Jax is targeted towards scientific computing, it doesn't have built-in support for building neural networks (like the nn.linear in PyTorch). Therefore, we need to build a Neural network from scratch. "
   ]
  },
  {
   "cell_type": "code",
   "execution_count": 51,
   "metadata": {},
   "outputs": [],
   "source": [
    "# define the ReLU activation function\n",
    "def relu(x):\n",
    "  return jnp.maximum(0, x)\n",
    "\n",
    "# This function defines our neural network, and acts similarly as the forward funciton in PyTorch\n",
    "def mymodel(params, input): \n",
    "  intermediate_layers = input\n",
    "  for w, b in params[:-1]: # go through the weights (w,b) in all layers\n",
    "    intermediate_layers = relu(jnp.dot(w, intermediate_layers) + b)\n",
    "\n",
    "  final_w, final_b = params[-1]\n",
    "  output = jnp.dot(final_w, intermediate_layers) + final_b\n",
    "  return output\n",
    "\n",
    "# A helper function to randomly initialize weights and biases for a dense neural network layer\n",
    "def random_layer_params(m, n, key, scale=1e-2):\n",
    "  w_key, b_key = jax.random.split(key)\n",
    "  return scale * jax.random.normal(w_key, (n, m)), scale * jax.random.normal(b_key, (n,))\n",
    "\n",
    "# Initialize all layers for a fully-connected neural network with sizes \"sizes\"\n",
    "def init_network_params(sizes, key):\n",
    "  keys = jax.random.split(key, len(sizes))\n",
    "  # Return tuple (w,b) for all layers stored as a list\n",
    "  return [random_layer_params(m, n, k) for m, n, k in zip(sizes[:-1], sizes[1:], keys)]\n",
    "\n",
    "# input and output dimension is 1, and two hidden layers both have dimension 64. \n",
    "layer_sizes = [1, 64, 64, 1] \n",
    "\n",
    "# Initialize weight for the neural network with size as \"layer_sizes\"\n",
    "params = init_network_params(layer_sizes, jax.random.key(0))\n",
    "\n"
   ]
  },
  {
   "cell_type": "markdown",
   "metadata": {},
   "source": [
    "Let's now try to use mymodel to predict on some inputs. "
   ]
  },
  {
   "cell_type": "code",
   "execution_count": 59,
   "metadata": {},
   "outputs": [
    {
     "name": "stdout",
     "output_type": "stream",
     "text": [
      "[-0.00505284]\n"
     ]
    },
    {
     "ename": "TypeError",
     "evalue": "dot_general requires contracting dimensions to have the same shape, got (1,) and (2,).",
     "output_type": "error",
     "traceback": [
      "\u001b[0;31m---------------------------------------------------------------------------\u001b[0m",
      "\u001b[0;31mTypeError\u001b[0m                                 Traceback (most recent call last)",
      "Cell \u001b[0;32mIn[59], line 5\u001b[0m\n\u001b[1;32m      2\u001b[0m \u001b[38;5;28mprint\u001b[39m(mymodel(params,x))\n\u001b[1;32m      4\u001b[0m x \u001b[38;5;241m=\u001b[39m jnp\u001b[38;5;241m.\u001b[39marray([[\u001b[38;5;241m1.0\u001b[39m],[\u001b[38;5;241m2.0\u001b[39m]])\n\u001b[0;32m----> 5\u001b[0m \u001b[38;5;28mprint\u001b[39m(\u001b[43mmymodel\u001b[49m\u001b[43m(\u001b[49m\u001b[43mparams\u001b[49m\u001b[43m,\u001b[49m\u001b[43mx\u001b[49m\u001b[43m)\u001b[49m)\n",
      "Cell \u001b[0;32mIn[51], line 26\u001b[0m, in \u001b[0;36mmymodel\u001b[0;34m(params, input)\u001b[0m\n\u001b[1;32m     24\u001b[0m intermediate_layers \u001b[38;5;241m=\u001b[39m \u001b[38;5;28minput\u001b[39m\n\u001b[1;32m     25\u001b[0m \u001b[38;5;28;01mfor\u001b[39;00m w, b \u001b[38;5;129;01min\u001b[39;00m params[:\u001b[38;5;241m-\u001b[39m\u001b[38;5;241m1\u001b[39m]: \u001b[38;5;66;03m# go through the weights (w,b) in all layers\u001b[39;00m\n\u001b[0;32m---> 26\u001b[0m   intermediate_layers \u001b[38;5;241m=\u001b[39m relu(\u001b[43mjnp\u001b[49m\u001b[38;5;241;43m.\u001b[39;49m\u001b[43mdot\u001b[49m\u001b[43m(\u001b[49m\u001b[43mw\u001b[49m\u001b[43m,\u001b[49m\u001b[43m \u001b[49m\u001b[43mintermediate_layers\u001b[49m\u001b[43m)\u001b[49m \u001b[38;5;241m+\u001b[39m b)\n\u001b[1;32m     28\u001b[0m final_w, final_b \u001b[38;5;241m=\u001b[39m params[\u001b[38;5;241m-\u001b[39m\u001b[38;5;241m1\u001b[39m]\n\u001b[1;32m     29\u001b[0m output \u001b[38;5;241m=\u001b[39m jnp\u001b[38;5;241m.\u001b[39mdot(final_w, intermediate_layers) \u001b[38;5;241m+\u001b[39m final_b\n",
      "    \u001b[0;31m[... skipping hidden 11 frame]\u001b[0m\n",
      "File \u001b[0;32m~/mambaforge/envs/jaxtest_mamba/lib/python3.12/site-packages/jax/_src/numpy/lax_numpy.py:5761\u001b[0m, in \u001b[0;36mdot\u001b[0;34m(a, b, precision, preferred_element_type)\u001b[0m\n\u001b[1;32m   5759\u001b[0m   \u001b[38;5;28;01melse\u001b[39;00m:\n\u001b[1;32m   5760\u001b[0m     contract_dims \u001b[38;5;241m=\u001b[39m ((a_ndim \u001b[38;5;241m-\u001b[39m \u001b[38;5;241m1\u001b[39m,), (b_ndim \u001b[38;5;241m-\u001b[39m \u001b[38;5;241m2\u001b[39m,))\n\u001b[0;32m-> 5761\u001b[0m   result \u001b[38;5;241m=\u001b[39m \u001b[43mlax\u001b[49m\u001b[38;5;241;43m.\u001b[39;49m\u001b[43mdot_general\u001b[49m\u001b[43m(\u001b[49m\u001b[43ma\u001b[49m\u001b[43m,\u001b[49m\u001b[43m \u001b[49m\u001b[43mb\u001b[49m\u001b[43m,\u001b[49m\u001b[43m \u001b[49m\u001b[43mdimension_numbers\u001b[49m\u001b[38;5;241;43m=\u001b[39;49m\u001b[43m(\u001b[49m\u001b[43mcontract_dims\u001b[49m\u001b[43m,\u001b[49m\u001b[43m \u001b[49m\u001b[43mbatch_dims\u001b[49m\u001b[43m)\u001b[49m\u001b[43m,\u001b[49m\n\u001b[1;32m   5762\u001b[0m \u001b[43m                           \u001b[49m\u001b[43mprecision\u001b[49m\u001b[38;5;241;43m=\u001b[39;49m\u001b[43mprecision\u001b[49m\u001b[43m,\u001b[49m\u001b[43m \u001b[49m\u001b[43mpreferred_element_type\u001b[49m\u001b[38;5;241;43m=\u001b[39;49m\u001b[43mpreferred_element_type\u001b[49m\u001b[43m)\u001b[49m\n\u001b[1;32m   5763\u001b[0m \u001b[38;5;28;01mreturn\u001b[39;00m lax_internal\u001b[38;5;241m.\u001b[39m_convert_element_type(result, preferred_element_type, output_weak_type)\n",
      "    \u001b[0;31m[... skipping hidden 7 frame]\u001b[0m\n",
      "File \u001b[0;32m~/mambaforge/envs/jaxtest_mamba/lib/python3.12/site-packages/jax/_src/lax/lax.py:2723\u001b[0m, in \u001b[0;36m_dot_general_shape_rule\u001b[0;34m(lhs, rhs, dimension_numbers, precision, preferred_element_type)\u001b[0m\n\u001b[1;32m   2720\u001b[0m \u001b[38;5;28;01mif\u001b[39;00m \u001b[38;5;129;01mnot\u001b[39;00m core\u001b[38;5;241m.\u001b[39mdefinitely_equal_shape(lhs_contracting_shape, rhs_contracting_shape):\n\u001b[1;32m   2721\u001b[0m   msg \u001b[38;5;241m=\u001b[39m (\u001b[38;5;124m\"\u001b[39m\u001b[38;5;124mdot_general requires contracting dimensions to have the same \u001b[39m\u001b[38;5;124m\"\u001b[39m\n\u001b[1;32m   2722\u001b[0m          \u001b[38;5;124m\"\u001b[39m\u001b[38;5;124mshape, got \u001b[39m\u001b[38;5;132;01m{}\u001b[39;00m\u001b[38;5;124m and \u001b[39m\u001b[38;5;132;01m{}\u001b[39;00m\u001b[38;5;124m.\u001b[39m\u001b[38;5;124m\"\u001b[39m)\n\u001b[0;32m-> 2723\u001b[0m   \u001b[38;5;28;01mraise\u001b[39;00m \u001b[38;5;167;01mTypeError\u001b[39;00m(msg\u001b[38;5;241m.\u001b[39mformat(lhs_contracting_shape, rhs_contracting_shape))\n\u001b[1;32m   2725\u001b[0m \u001b[38;5;28;01mreturn\u001b[39;00m _dot_general_shape_computation(lhs\u001b[38;5;241m.\u001b[39mshape, rhs\u001b[38;5;241m.\u001b[39mshape, dimension_numbers)\n",
      "\u001b[0;31mTypeError\u001b[0m: dot_general requires contracting dimensions to have the same shape, got (1,) and (2,)."
     ]
    }
   ],
   "source": [
    "x = jnp.array([1.0])\n",
    "print(mymodel(params,x))\n",
    "\n",
    "x = jnp.array([[1.0],[2.0]])\n",
    "print(mymodel(params,x))\n"
   ]
  },
  {
   "cell_type": "markdown",
   "metadata": {},
   "source": [
    "In the above example, when using mymodel to make prediction on a single input, it will function properly. However, when making prediciton on a batch of two values, it throws an error on the dimension mismatch. While we could rewrite mymodel such that it supports taking batches of input, Jax provides jax.vmap which automatically vectorizes a function such that it can take a batch (vector) of inputs. \n",
    "\n"
   ]
  },
  {
   "cell_type": "code",
   "execution_count": 61,
   "metadata": {},
   "outputs": [
    {
     "name": "stdout",
     "output_type": "stream",
     "text": [
      "[[-0.00505284]\n",
      " [-0.00506019]]\n"
     ]
    }
   ],
   "source": [
    "# jax.vmap transforms a function to a vectorized function that take a batch of inputs\n",
    "# in_axes means which axis is the axis for \"batch\". \n",
    "# The first \"None\" is because the first input of mymodel is params, which we are not vectorizing\n",
    "# The second \"0\" means for the second input of mymodel, the first axis is the axis for batch\n",
    "mymodel_batch = jax.vmap(mymodel, in_axes=(None, 0))\n",
    "\n",
    "x = jnp.array([[1.0],[2.0]]) # x is of shape (2,1), and the first axis \"2\" indicates this is a batch of 2 inputs\n",
    "print(mymodel_batch(params,x))\n"
   ]
  },
  {
   "cell_type": "markdown",
   "metadata": {},
   "source": [
    "Let's now use Jax to conduct a simple regression problem. "
   ]
  },
  {
   "cell_type": "code",
   "execution_count": 64,
   "metadata": {},
   "outputs": [
    {
     "data": {
      "text/plain": [
       "<matplotlib.legend.Legend at 0x16a39d010>"
      ]
     },
     "execution_count": 64,
     "metadata": {},
     "output_type": "execute_result"
    },
    {
     "data": {
      "image/png": "[encoded data removed]",
      "text/plain": [
       "<Figure size 640x480 with 1 Axes>"
      ]
     },
     "metadata": {},
     "output_type": "display_data"
    }
   ],
   "source": [
    "import matplotlib.pyplot as plt\n",
    "\n",
    "# preparing data\n",
    "N_samples = 50\n",
    "x = jnp.linspace(-10,10,N_samples)\n",
    "x = x[:,None]\n",
    "y = jnp.sin(0.5*x) + jax.random.normal(jax.random.key(0),(N_samples,1))*0.2\n",
    "\n",
    "\n",
    "prediction = mymodel_batch(params,x)#\n",
    "plt.plot(x,y,'ro')\n",
    "plt.plot(x,prediction)\n",
    "plt.legend(['data','prediction of mymodel before training'])\n"
   ]
  },
  {
   "cell_type": "code",
   "execution_count": 68,
   "metadata": {},
   "outputs": [],
   "source": [
    "# define loss function\n",
    "def mse_loss(param,x,y):\n",
    "    return jnp.average((mymodel_batch(param,x) - y)**2)\n",
    "\n",
    "# gradient of loss w.r.t. the model parameters. \n",
    "# argnums=0 means we are taking gradient only w.r.t. the first argument of mse_loss, which is param.\n",
    "grad_func = jax.grad(mse_loss,argnums=0)\n",
    "\n",
    "# The below function performs a single gradient step. Note that we jit this function by the decorator @jax.jit\n",
    "@jax.jit\n",
    "def gradient_descent_step(params,x,y,learning_rate):\n",
    "    grad = grad_func(params,x,y)\n",
    "    return [(w - learning_rate * dw, b - learning_rate * db)\n",
    "          for (w, b), (dw, db) in zip(params, grad)]"
   ]
  },
  {
   "cell_type": "code",
   "execution_count": 69,
   "metadata": {},
   "outputs": [
    {
     "name": "stdout",
     "output_type": "stream",
     "text": [
      "conducting gradient step\n",
      "Traced<ShapedArray(float32[], weak_type=True)>with<DynamicJaxprTrace(level=1/0)> [(Traced<ShapedArray(float32[64,1])>with<DynamicJaxprTrace(level=1/0)>, Traced<ShapedArray(float32[64])>with<DynamicJaxprTrace(level=1/0)>), (Traced<ShapedArray(float32[64,64])>with<DynamicJaxprTrace(level=1/0)>, Traced<ShapedArray(float32[64])>with<DynamicJaxprTrace(level=1/0)>), (Traced<ShapedArray(float32[1,64])>with<DynamicJaxprTrace(level=1/0)>, Traced<ShapedArray(float32[1])>with<DynamicJaxprTrace(level=1/0)>)]\n"
     ]
    }
   ],
   "source": [
    "# setting learning rate and number of epochs\n",
    "lr = 0.1\n",
    "num_epochs = 1000\n",
    "\n",
    "loss_list = []\n",
    "\n",
    "\n",
    "for _ in range(num_epochs):\n",
    "    params = gradient_descent_step(params,x,y,lr) # gradient step\n",
    "    loss = mse_loss(params,x,y)\n",
    "    loss_list.append(loss)\n",
    "\n",
    "    \n"
   ]
  },
  {
   "cell_type": "code",
   "execution_count": 41,
   "metadata": {},
   "outputs": [
    {
     "data": {
      "text/plain": [
       "[<matplotlib.lines.Line2D at 0x169a8b950>]"
      ]
     },
     "execution_count": 41,
     "metadata": {},
     "output_type": "execute_result"
    },
    {
     "data": {
      "image/png": "[encoded data removed]",
      "text/plain": [
       "<Figure size 640x480 with 1 Axes>"
      ]
     },
     "metadata": {},
     "output_type": "display_data"
    }
   ],
   "source": [
    "plt.plot(range(num_epochs),loss_list)"
   ]
  },
  {
   "cell_type": "code",
   "execution_count": 70,
   "metadata": {},
   "outputs": [
    {
     "data": {
      "text/plain": [
       "<matplotlib.legend.Legend at 0x16a302060>"
      ]
     },
     "execution_count": 70,
     "metadata": {},
     "output_type": "execute_result"
    },
    {
     "data": {
      "image/png": "[encoded data removed]",
      "text/plain": [
       "<Figure size 640x480 with 1 Axes>"
      ]
     },
     "metadata": {},
     "output_type": "display_data"
    },
    {
     "ename": "",
     "evalue": "",
     "output_type": "error",
     "traceback": [
      "\u001b[1;31mThe Kernel crashed while executing code in the current cell or a previous cell. \n",
      "\u001b[1;31mPlease review the code in the cell(s) to identify a possible cause of the failure. \n",
      "\u001b[1;31mClick <a href='https://aka.ms/vscodeJupyterKernelCrash'>here</a> for more info. \n",
      "\u001b[1;31mView Jupyter <a href='command:jupyter.viewOutput'>log</a> for further details."
     ]
    }
   ],
   "source": [
    "prediction = mymodel_batch(params,x)\n",
    "plt.plot(x,y,'ro')\n",
    "plt.plot(x,prediction)\n",
    "plt.legend(['data','prediction of mymodel after training'])\n"
   ]
  }
 ],
 "metadata": {
  "kernelspec": {
   "display_name": "jaxtest",
   "language": "python",
   "name": "python3"
  },
  "language_info": {
   "codemirror_mode": {
    "name": "ipython",
    "version": 3
   },
   "file_extension": ".py",
   "mimetype": "text/x-python",
   "name": "python",
   "nbconvert_exporter": "python",
   "pygments_lexer": "ipython3",
   "version": "3.12.5"
  }
 },
 "nbformat": 4,
 "nbformat_minor": 2
}
